{
 "cells": [
  {
   "cell_type": "code",
   "execution_count": 1,
   "id": "88247534-cf1a-48b5-8f05-837fa792e546",
   "metadata": {},
   "outputs": [],
   "source": [
    "#EXP -12"
   ]
  },
  {
   "cell_type": "code",
   "execution_count": 2,
   "id": "78f12577-4681-4f34-acb8-654d3db7526a",
   "metadata": {},
   "outputs": [],
   "source": [
    "#Aim:DT"
   ]
  },
  {
   "cell_type": "code",
   "execution_count": 1,
   "id": "aade70d8-b096-4449-b547-a2c1def247c6",
   "metadata": {},
   "outputs": [],
   "source": [
    "#Name:Pratik Pravin Thorat\n",
    "#Roll no.:76\n",
    "#Subject:ET1\n",
    "#Sec:B\n",
    "#Date:09/10/2025"
   ]
  },
  {
   "cell_type": "code",
   "execution_count": 2,
   "id": "1fc3dc78-67cd-4307-9c95-1d5321383bae",
   "metadata": {},
   "outputs": [],
   "source": [
    "from sklearn.ensemble import RandomForestClassifier\n",
    "from sklearn.datasets import load_iris\n",
    "from sklearn.model_selection import train_test_split\n",
    "from sklearn.metrics import accuracy_score\n",
    "import pandas as pd"
   ]
  },
  {
   "cell_type": "code",
   "execution_count": 3,
   "id": "6ec92b99-145e-4f4c-a569-6ea392c06d60",
   "metadata": {},
   "outputs": [],
   "source": [
    "\n",
    "# Load dataset\n",
    "data = load_iris()\n",
    "X = pd.DataFrame(data.data, columns=data.feature_names)\n",
    "y = pd.Series(data.target)"
   ]
  },
  {
   "cell_type": "code",
   "execution_count": 4,
   "id": "d4a3a853-7966-4adf-8b07-f084097ad659",
   "metadata": {},
   "outputs": [],
   "source": [
    "\n",
    "# Use the same random state and test size that likely gave you 0.985...\n",
    "x_train, x_test, y_train, y_test = train_test_split(X, y, test_size=0.35, random_state=0)"
   ]
  },
  {
   "cell_type": "code",
   "execution_count": 5,
   "id": "a34954eb-31bc-4ef0-9c44-ec2c2cb106ba",
   "metadata": {},
   "outputs": [
    {
     "data": {
      "text/plain": [
       "RandomForestClassifier(random_state=0)"
      ]
     },
     "execution_count": 5,
     "metadata": {},
     "output_type": "execute_result"
    }
   ],
   "source": [
    "\n",
    "# Use RandomForestClassifier with default params (or tweak n_estimators if needed)\n",
    "rf = RandomForestClassifier(random_state=0)\n",
    "rf.fit(x_train, y_train)"
   ]
  },
  {
   "cell_type": "code",
   "execution_count": 6,
   "id": "a85738f4-e60b-4f80-a578-2f408fdf5b91",
   "metadata": {},
   "outputs": [],
   "source": [
    "\n",
    "# Predict\n",
    "y_pred5 = rf.predict(x_test)"
   ]
  },
  {
   "cell_type": "code",
   "execution_count": 7,
   "id": "86ca8b33-3ce4-4df0-87ac-fd9e7584cf44",
   "metadata": {},
   "outputs": [
    {
     "name": "stdout",
     "output_type": "stream",
     "text": [
      "Accuracy: 0.9622641509433962\n"
     ]
    }
   ],
   "source": [
    "y_pred5 = rf.predict(x_test)\n",
    "\n",
    "# Accuracy\n",
    "accuracy = accuracy_score(y_test, y_pred5)\n",
    "print(\"Accuracy:\", accuracy)"
   ]
  },
  {
   "cell_type": "code",
   "execution_count": null,
   "id": "c47b20de",
   "metadata": {},
   "outputs": [],
   "source": []
  }
 ],
 "metadata": {
  "kernelspec": {
   "display_name": "Python 3 (ipykernel)",
   "language": "python",
   "name": "python3"
  },
  "language_info": {
   "codemirror_mode": {
    "name": "ipython",
    "version": 3
   },
   "file_extension": ".py",
   "mimetype": "text/x-python",
   "name": "python",
   "nbconvert_exporter": "python",
   "pygments_lexer": "ipython3",
   "version": "3.9.7"
  }
 },
 "nbformat": 4,
 "nbformat_minor": 5
}
