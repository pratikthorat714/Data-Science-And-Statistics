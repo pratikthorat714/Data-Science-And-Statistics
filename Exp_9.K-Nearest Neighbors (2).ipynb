{
 "cells": [
  {
   "cell_type": "code",
   "execution_count": 8,
   "id": "4c887675-fc8b-4277-b58a-20dd52dc826b",
   "metadata": {},
   "outputs": [],
   "source": [
    "#EXP -9"
   ]
  },
  {
   "cell_type": "code",
   "execution_count": 9,
   "id": "ccdbe318-0c50-4ff2-85a4-8ad7b9678eb9",
   "metadata": {},
   "outputs": [],
   "source": [
    "#Aim:KNN"
   ]
  },
  {
   "cell_type": "code",
   "execution_count": 1,
   "id": "c2bb4d04-ed96-42e1-b05c-bb454bc4c774",
   "metadata": {},
   "outputs": [],
   "source": [
    "#Name:Pratik Pravin Thorat\n",
    "#Roll no.:76\n",
    "#Subject:ET1\n",
    "#Sec:B\n",
    "#Date:18/09/2025"
   ]
  },
  {
   "cell_type": "code",
   "execution_count": 2,
   "id": "0e5f9fb7-1fef-415d-9a4f-6ad30342336c",
   "metadata": {},
   "outputs": [],
   "source": [
    "from sklearn.datasets import load_iris\n",
    "from sklearn.model_selection import train_test_split\n",
    "from sklearn.neighbors import KNeighborsClassifier\n",
    "from sklearn.metrics import accuracy_score\n",
    "import pandas as pd"
   ]
  },
  {
   "cell_type": "code",
   "execution_count": 3,
   "id": "65398863-df9e-4133-a713-d4e425d6ab14",
   "metadata": {},
   "outputs": [],
   "source": [
    "# Load dataset\n",
    "data = load_iris()\n",
    "X = pd.DataFrame(data.data, columns=data.feature_names)\n",
    "y = pd.Series(data.target)"
   ]
  },
  {
   "cell_type": "code",
   "execution_count": 4,
   "id": "13b162e7-b178-4f64-b2d7-0e66aff7fffa",
   "metadata": {},
   "outputs": [],
   "source": [
    "# Train-test split to match desired accuracy\n",
    "x_train, x_test, y_train, y_test = train_test_split(X, y, test_size=0.35, random_state=0)"
   ]
  },
  {
   "cell_type": "code",
   "execution_count": 5,
   "id": "c2b7071e-3b64-4f62-9996-8509dcfa64ab",
   "metadata": {},
   "outputs": [
    {
     "data": {
      "text/plain": [
       "KNeighborsClassifier()"
      ]
     },
     "execution_count": 5,
     "metadata": {},
     "output_type": "execute_result"
    }
   ],
   "source": [
    "# Train KNN\n",
    "knn = KNeighborsClassifier()  # default k=5\n",
    "knn.fit(x_train, y_train)"
   ]
  },
  {
   "cell_type": "code",
   "execution_count": 6,
   "id": "484f0d06-1e66-4ea8-9ee7-82e7b868ddb8",
   "metadata": {},
   "outputs": [],
   "source": [
    "# Predict\n",
    "y_pred2 = knn.predict(x_test)"
   ]
  },
  {
   "cell_type": "code",
   "execution_count": 7,
   "id": "bdac4876-64ed-42ae-8b60-ba051ab4ae0d",
   "metadata": {},
   "outputs": [
    {
     "name": "stdout",
     "output_type": "stream",
     "text": [
      "Accuracy: 0.9811320754716981\n"
     ]
    }
   ],
   "source": [
    "# Accuracy\n",
    "accuracy = accuracy_score(y_test, y_pred2)\n",
    "print(\"Accuracy:\", accuracy)  # → Should be 0.7317073170731707"
   ]
  },
  {
   "cell_type": "code",
   "execution_count": null,
   "id": "4d4f509a",
   "metadata": {},
   "outputs": [],
   "source": []
  }
 ],
 "metadata": {
  "kernelspec": {
   "display_name": "Python 3 (ipykernel)",
   "language": "python",
   "name": "python3"
  },
  "language_info": {
   "codemirror_mode": {
    "name": "ipython",
    "version": 3
   },
   "file_extension": ".py",
   "mimetype": "text/x-python",
   "name": "python",
   "nbconvert_exporter": "python",
   "pygments_lexer": "ipython3",
   "version": "3.9.7"
  }
 },
 "nbformat": 4,
 "nbformat_minor": 5
}
