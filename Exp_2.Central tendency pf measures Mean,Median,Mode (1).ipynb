{
 "cells": [
  {
   "cell_type": "code",
   "execution_count": 1,
   "id": "860b1101-b644-4014-9d1d-1ff130b35ed5",
   "metadata": {},
   "outputs": [],
   "source": [
    "#EXP - 2"
   ]
  },
  {
   "cell_type": "code",
   "execution_count": 2,
   "id": "e8706dcc-21f2-4245-b1db-1bae64878167",
   "metadata": {},
   "outputs": [],
   "source": [
    "# Aim : Central Tendency of Measures Mean,Median Mode"
   ]
  },
  {
   "cell_type": "code",
   "execution_count": 1,
   "id": "e4811ed1-95e3-4422-b210-a5ea31b1a2d7",
   "metadata": {},
   "outputs": [],
   "source": [
    "# Name:Pratik Pravin Thorat\n",
    "# Roll no.:76\n",
    "# sec : B\n",
    "#Subject:ET1\n",
    "# Date:31/7/2025"
   ]
  },
  {
   "cell_type": "code",
   "execution_count": 2,
   "id": "94d7a646-78f2-49df-8166-b7e1e54031c7",
   "metadata": {},
   "outputs": [],
   "source": [
    "age=[22,21,20,22,20,23,24,23,25]"
   ]
  },
  {
   "cell_type": "code",
   "execution_count": 3,
   "id": "86b3bed1-1ca5-4a2a-bf76-6c13c5860503",
   "metadata": {},
   "outputs": [
    {
     "data": {
      "text/plain": [
       "[22, 21, 20, 22, 20, 23, 24, 23, 25]"
      ]
     },
     "execution_count": 3,
     "metadata": {},
     "output_type": "execute_result"
    }
   ],
   "source": [
    "age"
   ]
  },
  {
   "cell_type": "code",
   "execution_count": 4,
   "id": "9715635b-9474-4370-a2d8-57ff6aaea5e4",
   "metadata": {},
   "outputs": [],
   "source": [
    "import statistics as st"
   ]
  },
  {
   "cell_type": "code",
   "execution_count": 5,
   "id": "d18c9840-775e-483c-898a-dc98d7f84250",
   "metadata": {},
   "outputs": [],
   "source": [
    "a=st.mean(age)"
   ]
  },
  {
   "cell_type": "code",
   "execution_count": 6,
   "id": "c13914c4-9d4e-4274-a20a-1d2e4183afb7",
   "metadata": {},
   "outputs": [
    {
     "data": {
      "text/plain": [
       "22.22222222222222"
      ]
     },
     "execution_count": 6,
     "metadata": {},
     "output_type": "execute_result"
    }
   ],
   "source": [
    "a"
   ]
  },
  {
   "cell_type": "code",
   "execution_count": 7,
   "id": "78d1b714-8223-4707-927e-557275ece23c",
   "metadata": {},
   "outputs": [],
   "source": [
    "b=st.median(age)"
   ]
  },
  {
   "cell_type": "code",
   "execution_count": 8,
   "id": "afb20acb-23d0-4669-bef8-108c075841da",
   "metadata": {},
   "outputs": [
    {
     "data": {
      "text/plain": [
       "22"
      ]
     },
     "execution_count": 8,
     "metadata": {},
     "output_type": "execute_result"
    }
   ],
   "source": [
    "b"
   ]
  },
  {
   "cell_type": "code",
   "execution_count": 9,
   "id": "21b3e946-d13d-4e0e-a5ae-992ec90b63f8",
   "metadata": {},
   "outputs": [],
   "source": [
    "c=st.mode(age)"
   ]
  },
  {
   "cell_type": "code",
   "execution_count": 10,
   "id": "f110c036-6fa3-496d-bfef-38908bdc01d8",
   "metadata": {},
   "outputs": [
    {
     "data": {
      "text/plain": [
       "22"
      ]
     },
     "execution_count": 10,
     "metadata": {},
     "output_type": "execute_result"
    }
   ],
   "source": [
    "c"
   ]
  },
  {
   "cell_type": "markdown",
   "id": "33e8a6fc-4b6b-41b4-87ad-a50c5a4b53b1",
   "metadata": {},
   "source": [
    "# performing central tendancy od measure using numpy"
   ]
  },
  {
   "cell_type": "code",
   "execution_count": 11,
   "id": "9ecc62ba-c8d0-4a33-9185-8dc667a87074",
   "metadata": {},
   "outputs": [],
   "source": [
    "import numpy as np\n",
    "x=np.array([1,2,3,4,5,6,2,3,5,6])"
   ]
  },
  {
   "cell_type": "code",
   "execution_count": 12,
   "id": "8a73f28f-1046-484e-95bb-05133a97a380",
   "metadata": {},
   "outputs": [
    {
     "data": {
      "text/plain": [
       "array([1, 2, 3, 4, 5, 6, 2, 3, 5, 6])"
      ]
     },
     "execution_count": 12,
     "metadata": {},
     "output_type": "execute_result"
    }
   ],
   "source": [
    "x"
   ]
  },
  {
   "cell_type": "code",
   "execution_count": 13,
   "id": "51dd31df-968e-4268-9f99-d16511b1111c",
   "metadata": {},
   "outputs": [
    {
     "name": "stdout",
     "output_type": "stream",
     "text": [
      "3.7\n"
     ]
    }
   ],
   "source": [
    "print(np.mean(x))"
   ]
  },
  {
   "cell_type": "code",
   "execution_count": 14,
   "id": "3749541f-c4e3-4381-95ee-e2f13e86bbc6",
   "metadata": {},
   "outputs": [
    {
     "name": "stdout",
     "output_type": "stream",
     "text": [
      "3.5\n"
     ]
    }
   ],
   "source": [
    "print(np.median(x))"
   ]
  },
  {
   "cell_type": "markdown",
   "id": "19cb5c85-e058-4fb6-92e3-77862cc6486e",
   "metadata": {},
   "source": [
    "# performing central tendancy of measures using scipy"
   ]
  },
  {
   "cell_type": "code",
   "execution_count": 15,
   "id": "e701698d-f12a-4fd2-8330-48399c49bf61",
   "metadata": {},
   "outputs": [],
   "source": [
    "from scipy import stats"
   ]
  },
  {
   "cell_type": "code",
   "execution_count": 16,
   "id": "4fee6b47-851d-47b6-acf4-64fb84ef313a",
   "metadata": {},
   "outputs": [
    {
     "name": "stdout",
     "output_type": "stream",
     "text": [
      "ModeResult(mode=array([2]), count=array([2]))\n"
     ]
    }
   ],
   "source": [
    "print(stats.mode(x))"
   ]
  },
  {
   "cell_type": "code",
   "execution_count": 17,
   "id": "dc2fc1b1-d8f4-4e71-be4f-8f0475617f9a",
   "metadata": {},
   "outputs": [
    {
     "name": "stdout",
     "output_type": "stream",
     "text": [
      "1.676305461424021\n"
     ]
    }
   ],
   "source": [
    "print(np.std(x))"
   ]
  },
  {
   "cell_type": "code",
   "execution_count": 18,
   "id": "64161602-19a7-402e-add7-da0b30fd16d8",
   "metadata": {},
   "outputs": [
    {
     "name": "stdout",
     "output_type": "stream",
     "text": [
      "2.81\n"
     ]
    }
   ],
   "source": [
    "print(np.var(x))"
   ]
  },
  {
   "cell_type": "code",
   "execution_count": null,
   "id": "c5de7b45",
   "metadata": {},
   "outputs": [],
   "source": []
  }
 ],
 "metadata": {
  "kernelspec": {
   "display_name": "Python 3 (ipykernel)",
   "language": "python",
   "name": "python3"
  },
  "language_info": {
   "codemirror_mode": {
    "name": "ipython",
    "version": 3
   },
   "file_extension": ".py",
   "mimetype": "text/x-python",
   "name": "python",
   "nbconvert_exporter": "python",
   "pygments_lexer": "ipython3",
   "version": "3.9.7"
  }
 },
 "nbformat": 4,
 "nbformat_minor": 5
}
