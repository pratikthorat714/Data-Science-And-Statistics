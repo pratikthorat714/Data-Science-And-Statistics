{
 "cells": [
  {
   "cell_type": "code",
   "execution_count": 1,
   "id": "93fa2cdc-d0ea-41a5-a5e3-b268b1fc5e37",
   "metadata": {},
   "outputs": [],
   "source": [
    "#EXP -5"
   ]
  },
  {
   "cell_type": "code",
   "execution_count": 2,
   "id": "3b1bba12-cf45-4ee4-8e08-a0f53adab7b8",
   "metadata": {},
   "outputs": [],
   "source": [
    "#Aim:To create 1D,2D,and Multidimensional array"
   ]
  },
  {
   "cell_type": "code",
   "execution_count": 1,
   "id": "dc75d18c-2a0f-4a7c-8c87-ad86cebd4d87",
   "metadata": {},
   "outputs": [],
   "source": [
    "#Name:Pratik Pravin Thorat\n",
    "#Roll no.:76\n",
    "#Subject:ET1\n",
    "#Sec:B\n",
    "#Date:21/08/2025"
   ]
  },
  {
   "cell_type": "code",
   "execution_count": 2,
   "id": "7b1f82d4-03d2-450f-b212-1321b5255909",
   "metadata": {},
   "outputs": [],
   "source": [
    "import numpy as np"
   ]
  },
  {
   "cell_type": "code",
   "execution_count": 3,
   "id": "d0501b27-6e87-4264-9adc-c5198b45873a",
   "metadata": {},
   "outputs": [],
   "source": [
    "#creating 1D array using numpy"
   ]
  },
  {
   "cell_type": "code",
   "execution_count": 4,
   "id": "b99169c8-98fd-4dd8-bb85-5607b4829bc2",
   "metadata": {},
   "outputs": [],
   "source": [
    "a1=np.array([10,20,30,40,50])"
   ]
  },
  {
   "cell_type": "code",
   "execution_count": 5,
   "id": "43468edf-ae50-453b-a6b0-30046852f317",
   "metadata": {},
   "outputs": [
    {
     "data": {
      "text/plain": [
       "array([10, 20, 30, 40, 50])"
      ]
     },
     "execution_count": 5,
     "metadata": {},
     "output_type": "execute_result"
    }
   ],
   "source": [
    "a1"
   ]
  },
  {
   "cell_type": "code",
   "execution_count": 6,
   "id": "5596a1ba-610e-459d-887a-95d213efd216",
   "metadata": {},
   "outputs": [],
   "source": [
    "a2=np.array([[10,20,30,40],[60,70,80,90]])"
   ]
  },
  {
   "cell_type": "code",
   "execution_count": 7,
   "id": "740995d6-40ee-4f1e-bed1-e7d24dbd70a5",
   "metadata": {},
   "outputs": [
    {
     "data": {
      "text/plain": [
       "array([[10, 20, 30, 40],\n",
       "       [60, 70, 80, 90]])"
      ]
     },
     "execution_count": 7,
     "metadata": {},
     "output_type": "execute_result"
    }
   ],
   "source": [
    "a2"
   ]
  },
  {
   "cell_type": "code",
   "execution_count": 8,
   "id": "1be18edf-ba44-4e6e-acb7-9c300977ee89",
   "metadata": {},
   "outputs": [],
   "source": [
    "#creating 2D array using matrix"
   ]
  },
  {
   "cell_type": "code",
   "execution_count": 9,
   "id": "d71ceb79-013d-4473-8349-eab5d543f91e",
   "metadata": {},
   "outputs": [
    {
     "name": "stdout",
     "output_type": "stream",
     "text": [
      "[[11 22]\n",
      " [33 44]\n",
      " [55 66]]\n"
     ]
    }
   ],
   "source": [
    "a3=np.matrix('11 22;33 44;55 66')\n",
    "print(a3)"
   ]
  }
 ],
 "metadata": {
  "kernelspec": {
   "display_name": "Python 3 (ipykernel)",
   "language": "python",
   "name": "python3"
  },
  "language_info": {
   "codemirror_mode": {
    "name": "ipython",
    "version": 3
   },
   "file_extension": ".py",
   "mimetype": "text/x-python",
   "name": "python",
   "nbconvert_exporter": "python",
   "pygments_lexer": "ipython3",
   "version": "3.9.7"
  }
 },
 "nbformat": 4,
 "nbformat_minor": 5
}
