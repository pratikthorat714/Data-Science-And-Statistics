{
 "cells": [
  {
   "cell_type": "code",
   "execution_count": 1,
   "id": "44bc204d-45d9-4476-bb84-6539d7495aaa",
   "metadata": {},
   "outputs": [],
   "source": [
    "#EXP -11"
   ]
  },
  {
   "cell_type": "code",
   "execution_count": 2,
   "id": "386e29d4-a790-45ba-9e8b-391d714ffdb2",
   "metadata": {},
   "outputs": [],
   "source": [
    "#Aim:DT"
   ]
  },
  {
   "cell_type": "code",
   "execution_count": 1,
   "id": "d8ec0f49-93d5-462f-b0cd-2324d0dae1a6",
   "metadata": {},
   "outputs": [],
   "source": [
    "#Name:Pratik Pravin Thorat\n",
    "#Roll no.:76\n",
    "#Subject:ET1\n",
    "#Sec:B\n",
    "#Date:25/09/2025"
   ]
  },
  {
   "cell_type": "code",
   "execution_count": 2,
   "id": "2a393901-ec91-4e08-85b6-41a427f9d867",
   "metadata": {},
   "outputs": [],
   "source": [
    "import matplotlib.pyplot as plt\n",
    "import seaborn as sns\n",
    "from sklearn.tree import DecisionTreeClassifier, plot_tree\n",
    "from sklearn.metrics import accuracy_score\n",
    "from sklearn.datasets import load_iris\n",
    "from sklearn.model_selection import train_test_split\n",
    "import pandas as pd"
   ]
  },
  {
   "cell_type": "code",
   "execution_count": 3,
   "id": "2bf85885-3b80-4f1e-93eb-25d04e6d7c05",
   "metadata": {},
   "outputs": [],
   "source": [
    "# Load sample dataset\n",
    "data = load_iris()\n",
    "X = pd.DataFrame(data.data, columns=data.feature_names)\n",
    "y = pd.Series(data.target)"
   ]
  },
  {
   "cell_type": "code",
   "execution_count": 4,
   "id": "02091733-604e-4154-9c74-cc4dd71ea1fa",
   "metadata": {},
   "outputs": [],
   "source": [
    "# Train-test split\n",
    "x_train, x_test, y_train, y_test = train_test_split(X, y, test_size=0.2, random_state=42)"
   ]
  },
  {
   "cell_type": "code",
   "execution_count": 5,
   "id": "59596022-8e8b-4b95-8374-4d5a4dde5487",
   "metadata": {},
   "outputs": [
    {
     "data": {
      "text/plain": [
       "DecisionTreeClassifier(max_depth=3, random_state=0)"
      ]
     },
     "execution_count": 5,
     "metadata": {},
     "output_type": "execute_result"
    }
   ],
   "source": [
    "# Train Decision Tree model\n",
    "dt = DecisionTreeClassifier(random_state=0, max_depth=3)\n",
    "dt.fit(x_train, y_train)"
   ]
  },
  {
   "cell_type": "code",
   "execution_count": 6,
   "id": "7760b913-26c7-4a75-a141-0e880363a5a3",
   "metadata": {},
   "outputs": [
    {
     "name": "stdout",
     "output_type": "stream",
     "text": [
      "Accuracy: 1.0\n"
     ]
    }
   ],
   "source": [
    "\n",
    "# Predict and calculate accuracy\n",
    "y_pred4 = dt.predict(x_test)\n",
    "accuracy = accuracy_score(y_test, y_pred4)\n",
    "print(\"Accuracy:\", accuracy)"
   ]
  },
  {
   "cell_type": "code",
   "execution_count": null,
   "id": "09d8be35-7342-4d4e-a51a-7c8a33752f5c",
   "metadata": {},
   "outputs": [],
   "source": []
  }
 ],
 "metadata": {
  "kernelspec": {
   "display_name": "Python 3 (ipykernel)",
   "language": "python",
   "name": "python3"
  },
  "language_info": {
   "codemirror_mode": {
    "name": "ipython",
    "version": 3
   },
   "file_extension": ".py",
   "mimetype": "text/x-python",
   "name": "python",
   "nbconvert_exporter": "python",
   "pygments_lexer": "ipython3",
   "version": "3.9.7"
  }
 },
 "nbformat": 4,
 "nbformat_minor": 5
}
